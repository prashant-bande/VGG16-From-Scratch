{
 "cells": [
  {
   "cell_type": "code",
   "execution_count": 1,
   "metadata": {},
   "outputs": [
    {
     "name": "stderr",
     "output_type": "stream",
     "text": [
      "Using TensorFlow backend.\n"
     ]
    }
   ],
   "source": [
    "# importing all the libraries which requires to implement VGG16\n",
    "\n",
    "import os\n",
    "import shutil\n",
    "import keras\n",
    "import pandas as pd\n",
    "import numpy as np\n",
    "import matplotlib.pyplot as plt\n",
    "\n",
    "from keras.models import Sequential\n",
    "from keras.layers import Dense, Conv2D, MaxPool2D, Flatten\n",
    "from keras.preprocessing.image import ImageDataGenerator"
   ]
  },
  {
   "cell_type": "code",
   "execution_count": 2,
   "metadata": {},
   "outputs": [
    {
     "name": "stdout",
     "output_type": "stream",
     "text": [
      "['sampleSubmission.csv', 'test', 'train', 'train.zip', 'train1']\n"
     ]
    }
   ],
   "source": [
    "print(os.listdir(\"./data/\"))"
   ]
  },
  {
   "cell_type": "code",
   "execution_count": 3,
   "metadata": {},
   "outputs": [],
   "source": [
    "# Sorting out our cats and dogs images into respective folders\n",
    "# for train data\n",
    "filenames = os.listdir(\"./data/train1\")\n",
    "\n",
    "srcpath = \"./data/train1\"\n",
    "destdogs = \"./data/train/dogs\"\n",
    "destcats = \"./data/train/cats\"\n",
    "\n",
    "for filename in filenames:\n",
    "    category = filename.split('.')[0]\n",
    "    if category == 'dog':\n",
    "        filepath = os.path.join(srcpath, filename)\n",
    "        if not os.path.isdir(destdogs):\n",
    "            os.makedirs(destdogs)\n",
    "        shutil.copy(filepath, destdogs)\n",
    "    else:\n",
    "        filepath = os.path.join(srcpath, filename)\n",
    "        if not os.path.isdir(destcats):\n",
    "            os.makedirs(destcats)\n",
    "        shutil.copy(filepath, destcats)"
   ]
  },
  {
   "cell_type": "code",
   "execution_count": 5,
   "metadata": {},
   "outputs": [],
   "source": [
    "# Now lets move some data into test folder for testing\n",
    "testdogs = \"./data/test/dogs\"\n",
    "testcats = \"./data/test/cats\"\n",
    "\n",
    "srcdogs = \"./data/train/dogs\"\n",
    "srccats = \"./data/train/cats\"\n",
    "\n",
    "dogsnames = os.listdir(\"./data/train/dogs\")\n",
    "\n",
    "for filename in dogsnames:\n",
    "    number = filename.split('.')[1]\n",
    "    if int(number) >= 2001:\n",
    "        continue    \n",
    "    filepath = os.path.join(srcdogs, filename)\n",
    "    if not os.path.exists(testdogs):\n",
    "        os.makedirs(testdogs)\n",
    "    shutil.move(filepath, testdogs)\n",
    "\n",
    "\n",
    "catsnames = os.listdir(\"./data/train/cats\")\n",
    "\n",
    "for filename in catsnames:\n",
    "    number = filename.split('.')[1]\n",
    "    if int(number) >= 2001:\n",
    "        continue    \n",
    "    filepath = os.path.join(srccats, filename)\n",
    "    if not os.path.exists(testcats):\n",
    "        os.makedirs(testcats)\n",
    "    shutil.move(filepath, testcats)"
   ]
  },
  {
   "cell_type": "code",
   "execution_count": 6,
   "metadata": {},
   "outputs": [
    {
     "name": "stdout",
     "output_type": "stream",
     "text": [
      "Found 20998 images belonging to 2 classes.\n",
      "Found 4002 images belonging to 2 classes.\n"
     ]
    }
   ],
   "source": [
    "# Folder structure\n",
    "# train\n",
    "#  |-----dogs\n",
    "#  |-----cats\n",
    "# test\n",
    "#  |-----dogs\n",
    "#  |-----cats\n",
    "\n",
    "train_data = ImageDataGenerator()\n",
    "traindata = train_data.flow_from_directory(directory=\"./data/train\", target_size=(224,224))\n",
    "test_data = ImageDataGenerator()\n",
    "testdata = test_data.flow_from_directory(directory='./data/test', target_size=(224,224))"
   ]
  },
  {
   "cell_type": "code",
   "execution_count": 7,
   "metadata": {},
   "outputs": [
    {
     "name": "stderr",
     "output_type": "stream",
     "text": [
      "WARNING: Logging before flag parsing goes to stderr.\n",
      "W1228 13:31:34.879611 38740 deprecation_wrapper.py:119] From C:\\Users\\saanvi\\Anaconda3\\lib\\site-packages\\keras\\backend\\tensorflow_backend.py:74: The name tf.get_default_graph is deprecated. Please use tf.compat.v1.get_default_graph instead.\n",
      "\n",
      "W1228 13:31:34.954413 38740 deprecation_wrapper.py:119] From C:\\Users\\saanvi\\Anaconda3\\lib\\site-packages\\keras\\backend\\tensorflow_backend.py:517: The name tf.placeholder is deprecated. Please use tf.compat.v1.placeholder instead.\n",
      "\n",
      "W1228 13:31:34.960396 38740 deprecation_wrapper.py:119] From C:\\Users\\saanvi\\Anaconda3\\lib\\site-packages\\keras\\backend\\tensorflow_backend.py:4138: The name tf.random_uniform is deprecated. Please use tf.random.uniform instead.\n",
      "\n",
      "W1228 13:31:35.153437 38740 deprecation_wrapper.py:119] From C:\\Users\\saanvi\\Anaconda3\\lib\\site-packages\\keras\\backend\\tensorflow_backend.py:3976: The name tf.nn.max_pool is deprecated. Please use tf.nn.max_pool2d instead.\n",
      "\n"
     ]
    }
   ],
   "source": [
    "model = Sequential()\n",
    "\n",
    "model.add(Conv2D(input_shape=(224,224,3), filters=64, kernel_size=(3,3), padding=\"same\", activation=\"relu\"))\n",
    "model.add(Conv2D(filters=64, kernel_size=(3,3), padding=\"same\", activation=\"relu\"))\n",
    "model.add(MaxPool2D(pool_size=(2,2), strides=(2,2)))\n",
    "\n",
    "model.add(Conv2D(filters=128, kernel_size=(3,3), padding=\"same\", activation=\"relu\"))\n",
    "model.add(Conv2D(filters=128, kernel_size=(3,3), padding=\"same\", activation=\"relu\"))\n",
    "model.add(MaxPool2D(pool_size=(2,2), strides=(2,2)))\n",
    "\n",
    "model.add(Conv2D(filters=256, kernel_size=(3,3), padding=\"same\", activation=\"relu\"))\n",
    "model.add(Conv2D(filters=256, kernel_size=(3,3), padding=\"same\", activation=\"relu\"))\n",
    "model.add(Conv2D(filters=256, kernel_size=(3,3), padding=\"same\", activation=\"relu\"))\n",
    "model.add(MaxPool2D(pool_size=(2,2), strides=(2,2)))\n",
    "\n",
    "model.add(Conv2D(filters=512, kernel_size=(3,3), padding=\"same\", activation=\"relu\"))\n",
    "model.add(Conv2D(filters=512, kernel_size=(3,3), padding=\"same\", activation=\"relu\"))\n",
    "model.add(Conv2D(filters=512, kernel_size=(3,3), padding=\"same\", activation=\"relu\"))\n",
    "model.add(MaxPool2D(pool_size=(2,2), strides=(2,2)))\n",
    "\n",
    "model.add(Conv2D(filters=512, kernel_size=(3,3), padding=\"same\", activation=\"relu\"))\n",
    "model.add(Conv2D(filters=512, kernel_size=(3,3), padding=\"same\", activation=\"relu\"))\n",
    "model.add(Conv2D(filters=512, kernel_size=(3,3), padding=\"same\", activation=\"relu\"))\n",
    "model.add(MaxPool2D(pool_size=(2,2), strides=(2,2)))\n",
    "\n",
    "model.add(Flatten())\n",
    "model.add(Dense(units=4096, activation=\"relu\"))\n",
    "model.add(Dense(units=4096, activation=\"relu\"))\n",
    "\n",
    "model.add(Dense(units=2, activation=\"softmax\"))"
   ]
  },
  {
   "cell_type": "code",
   "execution_count": 8,
   "metadata": {},
   "outputs": [
    {
     "name": "stderr",
     "output_type": "stream",
     "text": [
      "W1228 13:31:36.467322 38740 deprecation_wrapper.py:119] From C:\\Users\\saanvi\\Anaconda3\\lib\\site-packages\\keras\\optimizers.py:790: The name tf.train.Optimizer is deprecated. Please use tf.compat.v1.train.Optimizer instead.\n",
      "\n",
      "W1228 13:31:36.495248 38740 deprecation_wrapper.py:119] From C:\\Users\\saanvi\\Anaconda3\\lib\\site-packages\\keras\\backend\\tensorflow_backend.py:3295: The name tf.log is deprecated. Please use tf.math.log instead.\n",
      "\n"
     ]
    },
    {
     "name": "stdout",
     "output_type": "stream",
     "text": [
      "_________________________________________________________________\n",
      "Layer (type)                 Output Shape              Param #   \n",
      "=================================================================\n",
      "conv2d_1 (Conv2D)            (None, 224, 224, 64)      1792      \n",
      "_________________________________________________________________\n",
      "conv2d_2 (Conv2D)            (None, 224, 224, 64)      36928     \n",
      "_________________________________________________________________\n",
      "max_pooling2d_1 (MaxPooling2 (None, 112, 112, 64)      0         \n",
      "_________________________________________________________________\n",
      "conv2d_3 (Conv2D)            (None, 112, 112, 128)     73856     \n",
      "_________________________________________________________________\n",
      "conv2d_4 (Conv2D)            (None, 112, 112, 128)     147584    \n",
      "_________________________________________________________________\n",
      "max_pooling2d_2 (MaxPooling2 (None, 56, 56, 128)       0         \n",
      "_________________________________________________________________\n",
      "conv2d_5 (Conv2D)            (None, 56, 56, 256)       295168    \n",
      "_________________________________________________________________\n",
      "conv2d_6 (Conv2D)            (None, 56, 56, 256)       590080    \n",
      "_________________________________________________________________\n",
      "conv2d_7 (Conv2D)            (None, 56, 56, 256)       590080    \n",
      "_________________________________________________________________\n",
      "max_pooling2d_3 (MaxPooling2 (None, 28, 28, 256)       0         \n",
      "_________________________________________________________________\n",
      "conv2d_8 (Conv2D)            (None, 28, 28, 512)       1180160   \n",
      "_________________________________________________________________\n",
      "conv2d_9 (Conv2D)            (None, 28, 28, 512)       2359808   \n",
      "_________________________________________________________________\n",
      "conv2d_10 (Conv2D)           (None, 28, 28, 512)       2359808   \n",
      "_________________________________________________________________\n",
      "max_pooling2d_4 (MaxPooling2 (None, 14, 14, 512)       0         \n",
      "_________________________________________________________________\n",
      "conv2d_11 (Conv2D)           (None, 14, 14, 512)       2359808   \n",
      "_________________________________________________________________\n",
      "conv2d_12 (Conv2D)           (None, 14, 14, 512)       2359808   \n",
      "_________________________________________________________________\n",
      "conv2d_13 (Conv2D)           (None, 14, 14, 512)       2359808   \n",
      "_________________________________________________________________\n",
      "max_pooling2d_5 (MaxPooling2 (None, 7, 7, 512)         0         \n",
      "_________________________________________________________________\n",
      "flatten_1 (Flatten)          (None, 25088)             0         \n",
      "_________________________________________________________________\n",
      "dense_1 (Dense)              (None, 4096)              102764544 \n",
      "_________________________________________________________________\n",
      "dense_2 (Dense)              (None, 4096)              16781312  \n",
      "_________________________________________________________________\n",
      "dense_3 (Dense)              (None, 2)                 8194      \n",
      "=================================================================\n",
      "Total params: 134,268,738\n",
      "Trainable params: 134,268,738\n",
      "Non-trainable params: 0\n",
      "_________________________________________________________________\n"
     ]
    }
   ],
   "source": [
    "from keras.optimizers import Adam\n",
    "opt = Adam(lr=0.0001)\n",
    "model.compile(optimizer=opt, loss=keras.losses.categorical_crossentropy, metrics=['accuracy'])\n",
    "model.summary()"
   ]
  },
  {
   "cell_type": "code",
   "execution_count": 9,
   "metadata": {},
   "outputs": [
    {
     "name": "stderr",
     "output_type": "stream",
     "text": [
      "W1228 13:31:36.941054 38740 deprecation.py:323] From C:\\Users\\saanvi\\Anaconda3\\lib\\site-packages\\tensorflow\\python\\ops\\math_grad.py:1250: add_dispatch_support.<locals>.wrapper (from tensorflow.python.ops.array_ops) is deprecated and will be removed in a future version.\n",
      "Instructions for updating:\n",
      "Use tf.where in 2.0, which has the same broadcast rule as np.where\n",
      "W1228 13:31:37.590320 38740 deprecation_wrapper.py:119] From C:\\Users\\saanvi\\Anaconda3\\lib\\site-packages\\keras\\backend\\tensorflow_backend.py:986: The name tf.assign_add is deprecated. Please use tf.compat.v1.assign_add instead.\n",
      "\n"
     ]
    },
    {
     "name": "stdout",
     "output_type": "stream",
     "text": [
      "Epoch 1/5\n",
      "10/10 [==============================] - 353s 35s/step - loss: 6.5882 - acc: 0.5281 - val_loss: 8.6635 - val_acc: 0.4625\n",
      "\n",
      "Epoch 00001: val_acc improved from -inf to 0.46250, saving model to vgg16_1.h5\n",
      "Epoch 2/5\n",
      "10/10 [==============================] - 323s 32s/step - loss: 8.3613 - acc: 0.4813 - val_loss: 8.7642 - val_acc: 0.4562\n",
      "\n",
      "Epoch 00002: val_acc did not improve from 0.46250\n",
      "Epoch 3/5\n",
      "10/10 [==============================] - 328s 33s/step - loss: 8.8146 - acc: 0.4531 - val_loss: 6.9509 - val_acc: 0.5687\n",
      "\n",
      "Epoch 00003: val_acc improved from 0.46250 to 0.56875, saving model to vgg16_1.h5\n",
      "Epoch 4/5\n",
      "10/10 [==============================] - 318s 32s/step - loss: 7.6561 - acc: 0.5250 - val_loss: 7.1524 - val_acc: 0.5563\n",
      "\n",
      "Epoch 00004: val_acc did not improve from 0.56875\n",
      "Epoch 5/5\n",
      "10/10 [==============================] - 323s 32s/step - loss: 8.7138 - acc: 0.4594 - val_loss: 9.1672 - val_acc: 0.4313\n",
      "\n",
      "Epoch 00005: val_acc did not improve from 0.56875\n"
     ]
    }
   ],
   "source": [
    "from keras.callbacks import ModelCheckpoint, EarlyStopping\n",
    "\n",
    "checkpoint = ModelCheckpoint(\"vgg16_1.h5\", \n",
    "                             monitor=\"val_acc\", \n",
    "                             verbose=1, \n",
    "                             save_best_only=True, \n",
    "                             save_weights_only=False, \n",
    "                             mode=\"auto\", \n",
    "                             period=1)\n",
    "\n",
    "early = EarlyStopping(monitor=\"val_acc\", \n",
    "                      min_delta=0, \n",
    "                      patience=20, \n",
    "                      verbose=1, \n",
    "                      mode=\"auto\")\n",
    "\n",
    "hist = model.fit_generator(steps_per_epoch=10, \n",
    "                           generator=traindata, \n",
    "                           validation_data=testdata, \n",
    "                           validation_steps=5, \n",
    "                           epochs=5, \n",
    "                           callbacks=[checkpoint, early])"
   ]
  },
  {
   "cell_type": "code",
   "execution_count": 10,
   "metadata": {},
   "outputs": [
    {
     "data": {
      "image/png": "[encoded data removed]",
      "text/plain": [
       "<Figure size 432x288 with 1 Axes>"
      ]
     },
     "metadata": {
      "needs_background": "light"
     },
     "output_type": "display_data"
    }
   ],
   "source": [
    "plt.plot(hist.history[\"acc\"])\n",
    "plt.plot(hist.history['val_acc'])\n",
    "plt.plot(hist.history['loss'])\n",
    "plt.plot(hist.history['val_loss'])\n",
    "plt.title(\"model accuracy\")\n",
    "plt.ylabel(\"Accuracy\")\n",
    "plt.xlabel(\"Epoch\")\n",
    "plt.legend([\"Accuracy\",\"Validation Accuracy\",\"loss\",\"Validation Loss\"])\n",
    "plt.show()"
   ]
  },
  {
   "cell_type": "code",
   "execution_count": null,
   "metadata": {},
   "outputs": [],
   "source": []
  }
 ],
 "metadata": {
  "kernelspec": {
   "display_name": "Python 3",
   "language": "python",
   "name": "python3"
  },
  "language_info": {
   "codemirror_mode": {
    "name": "ipython",
    "version": 3
   },
   "file_extension": ".py",
   "mimetype": "text/x-python",
   "name": "python",
   "nbconvert_exporter": "python",
   "pygments_lexer": "ipython3",
   "version": "3.7.3"
  }
 },
 "nbformat": 4,
 "nbformat_minor": 2
}
